{
 "cells": [
  {
   "cell_type": "markdown",
   "id": "6d418ab9",
   "metadata": {},
   "source": [
    "\n",
    "### Playfair - Exports and imports to and from Denmark & Norway from 1700 to 1780"
   ]
  },
  {
   "attachments": {
    "ExportsandImportstoandfromDenmarkNorwayfrom1700to1780_4e4d6b78e9bb9_w587.png.webp": {
     "image/webp": "[encoded data removed]"
    }
   },
   "cell_type": "markdown",
   "id": "ebfd22ba",
   "metadata": {},
   "source": [
    "William Playfair invented many of the graphs we use today, such as line, area, bar, and pie charts. Playfair’s Exports and Imports to and from Denmark and Norway from 1700 to 1780 (1786) shows the trade balance between those countries and England in one of the first examples of filling in the area between lines to emphasize the gap.\n",
    "\n",
    "![ExportsandImportstoandfromDenmarkNorwayfrom1700to1780_4e4d6b78e9bb9_w587.png.webp](attachment:ExportsandImportstoandfromDenmarkNorwayfrom1700to1780_4e4d6b78e9bb9_w587.png.webp)\n",
    "\n",
    "This is a reproduction in altair of this visualization."
   ]
  },
  {
   "cell_type": "code",
   "execution_count": 17,
   "id": "7cda0e0c",
   "metadata": {},
   "outputs": [],
   "source": [
    "import pandas as pd\n",
    "import numpy as np\n",
    "import altair as alt\n",
    "from vega_datasets import data"
   ]
  },
  {
   "cell_type": "code",
   "execution_count": 22,
   "id": "35fcf451",
   "metadata": {},
   "outputs": [
    {
     "data": {
      "text/plain": [
       "RendererRegistry.enable('default')"
      ]
     },
     "execution_count": 22,
     "metadata": {},
     "output_type": "execute_result"
    }
   ],
   "source": [
    "alt.renderers.enable('default')"
   ]
  },
  {
   "cell_type": "code",
   "execution_count": 23,
   "id": "c339168c",
   "metadata": {},
   "outputs": [],
   "source": [
    "df = pd.read_csv(\"importations_exportations.csv\")"
   ]
  },
  {
   "cell_type": "code",
   "execution_count": 24,
   "id": "487307ec",
   "metadata": {},
   "outputs": [],
   "source": [
    "df1 = df[df.Year < 1754]\n",
    "df2 = df[df.Year >= 1754]"
   ]
  },
  {
   "cell_type": "code",
   "execution_count": 25,
   "id": "daf7f20f",
   "metadata": {},
   "outputs": [
    {
     "data": {
      "text/html": [
       "\n",
       "<div id=\"altair-viz-d30d30b7693142b7a5c4f6bc787379e4\"></div>\n",
       "<script type=\"text/javascript\">\n",
       "  var VEGA_DEBUG = (typeof VEGA_DEBUG == \"undefined\") ? {} : VEGA_DEBUG;\n",
       "  (function(spec, embedOpt){\n",
       "    let outputDiv = document.currentScript.previousElementSibling;\n",
       "    if (outputDiv.id !== \"altair-viz-d30d30b7693142b7a5c4f6bc787379e4\") {\n",
       "      outputDiv = document.getElementById(\"altair-viz-d30d30b7693142b7a5c4f6bc787379e4\");\n",
       "    }\n",
       "    const paths = {\n",
       "      \"vega\": \"https://cdn.jsdelivr.net/npm//vega@5?noext\",\n",
       "      \"vega-lib\": \"https://cdn.jsdelivr.net/npm//vega-lib?noext\",\n",
       "      \"vega-lite\": \"https://cdn.jsdelivr.net/npm//vega-lite@4.17.0?noext\",\n",
       "      \"vega-embed\": \"https://cdn.jsdelivr.net/npm//vega-embed@6?noext\",\n",
       "    };\n",
       "\n",
       "    function maybeLoadScript(lib, version) {\n",
       "      var key = `${lib.replace(\"-\", \"\")}_version`;\n",
       "      return (VEGA_DEBUG[key] == version) ?\n",
       "        Promise.resolve(paths[lib]) :\n",
       "        new Promise(function(resolve, reject) {\n",
       "          var s = document.createElement('script');\n",
       "          document.getElementsByTagName(\"head\")[0].appendChild(s);\n",
       "          s.async = true;\n",
       "          s.onload = () => {\n",
       "            VEGA_DEBUG[key] = version;\n",
       "            return resolve(paths[lib]);\n",
       "          };\n",
       "          s.onerror = () => reject(`Error loading script: ${paths[lib]}`);\n",
       "          s.src = paths[lib];\n",
       "        });\n",
       "    }\n",
       "\n",
       "    function showError(err) {\n",
       "      outputDiv.innerHTML = `<div class=\"error\" style=\"color:red;\">${err}</div>`;\n",
       "      throw err;\n",
       "    }\n",
       "\n",
       "    function displayChart(vegaEmbed) {\n",
       "      vegaEmbed(outputDiv, spec, embedOpt)\n",
       "        .catch(err => showError(`Javascript Error: ${err.message}<br>This usually means there's a typo in your chart specification. See the javascript console for the full traceback.`));\n",
       "    }\n",
       "\n",
       "    if(typeof define === \"function\" && define.amd) {\n",
       "      requirejs.config({paths});\n",
       "      require([\"vega-embed\"], displayChart, err => showError(`Error loading script: ${err.message}`));\n",
       "    } else {\n",
       "      maybeLoadScript(\"vega\", \"5\")\n",
       "        .then(() => maybeLoadScript(\"vega-lite\", \"4.17.0\"))\n",
       "        .then(() => maybeLoadScript(\"vega-embed\", \"6\"))\n",
       "        .catch(showError)\n",
       "        .then(() => displayChart(vegaEmbed));\n",
       "    }\n",
       "  })({\"config\": {\"view\": {\"continuousWidth\": 400, \"continuousHeight\": 300}, \"axis\": {\"labelFont\": \"courier\", \"labelFontSize\": 12, \"titleFont\": \"Didot\", \"titleFontSize\": 16, \"titleFontStyle\": \"italic\"}, \"title\": {\"font\": \"Didot\", \"fontSize\": 16, \"fontStyle\": \"italic\"}}, \"layer\": [{\"data\": {\"name\": \"data-082846128eeedcb5522744029709bcb9\"}, \"mark\": {\"type\": \"area\", \"color\": \"#F2D5D5\", \"opacity\": 0.7}, \"encoding\": {\"x\": {\"axis\": {\"title\": \"The Botton line is diveded into Years, the Right hand line into L10000 each.\"}, \"field\": \"Year\", \"type\": \"quantitative\"}, \"y\": {\"axis\": {\"orient\": \"right\"}, \"field\": \"Imports\", \"type\": \"quantitative\"}, \"y2\": {\"field\": \"Exports\"}}, \"height\": 500, \"title\": \"Exports and imports to and from DENMARK & NORWAY from 1700 to 1780\", \"width\": 900.0}, {\"data\": {\"name\": \"data-c394e99b6c0c85208a8abf2aee6db15b\"}, \"mark\": {\"type\": \"area\", \"color\": \"#F2E1C2\", \"opacity\": 0.7}, \"encoding\": {\"x\": {\"field\": \"Year\", \"type\": \"quantitative\"}, \"y\": {\"field\": \"Imports\", \"type\": \"quantitative\"}, \"y2\": {\"field\": \"Exports\"}}, \"height\": 500, \"width\": 900.0}, {\"data\": {\"name\": \"data-d21a5610c08d0516c93726e975174542\"}, \"mark\": {\"type\": \"line\", \"stroke\": \"#D99255\", \"strokeWidth\": 3}, \"encoding\": {\"x\": {\"field\": \"Year\", \"type\": \"quantitative\"}, \"y\": {\"axis\": {\"title\": \" \"}, \"field\": \"Imports\", \"type\": \"quantitative\"}}}, {\"data\": {\"name\": \"data-d21a5610c08d0516c93726e975174542\"}, \"mark\": {\"type\": \"line\", \"stroke\": \"#A6495A\", \"strokeWidth\": 3}, \"encoding\": {\"x\": {\"field\": \"Year\", \"type\": \"quantitative\"}, \"y\": {\"axis\": {\"title\": \" \"}, \"field\": \"Exports\", \"type\": \"quantitative\"}}}, {\"data\": {\"name\": \"data-f1edb19581e3c2a7922cde81309fd37a\"}, \"mark\": {\"type\": \"text\", \"angle\": 340, \"font\": \"Didot\", \"opacity\": 0.7, \"text\": \"Line of Imports\"}, \"encoding\": {\"x\": {\"field\": \"x\", \"type\": \"quantitative\"}, \"y\": {\"field\": \"y\", \"type\": \"quantitative\"}}}, {\"data\": {\"name\": \"data-d6d61a2e56fb1d1fa0b91ba7b32ce5cd\"}, \"mark\": {\"type\": \"text\", \"angle\": 10, \"font\": \"Didot\", \"opacity\": 0.7, \"text\": \"Line of Exports\"}, \"encoding\": {\"x\": {\"field\": \"x\", \"type\": \"quantitative\"}, \"y\": {\"field\": \"y\", \"type\": \"quantitative\"}}}, {\"data\": {\"name\": \"data-8b9db4a6cccc6008a7dd1f4c6930302b\"}, \"mark\": {\"type\": \"text\", \"angle\": 10, \"font\": \"Didot\", \"fontSize\": 14, \"fontStyle\": \"italic\", \"fontWeight\": 700, \"opacity\": 0.7, \"text\": \"BALANCE AGAINST\"}, \"encoding\": {\"x\": {\"field\": \"x\", \"type\": \"quantitative\"}, \"y\": {\"field\": \"y\", \"type\": \"quantitative\"}}}, {\"data\": {\"name\": \"data-808d09d7abac0480713482f976654396\"}, \"mark\": {\"type\": \"text\", \"angle\": 0, \"font\": \"Didot\", \"fontSize\": 14, \"fontStyle\": \"italic\", \"fontWeight\": 700, \"lineBreak\": \"\\n\", \"opacity\": 0.7, \"text\": \"BALANCE AGAINST in \\n FAVOUR of \\n ENGLAND\"}, \"encoding\": {\"x\": {\"field\": \"x\", \"type\": \"quantitative\"}, \"y\": {\"field\": \"y\", \"type\": \"quantitative\"}}}, {\"data\": {\"name\": \"data-e71f9abec8e1b7f35a83557256c5ddb1\"}, \"mark\": {\"type\": \"text\", \"angle\": 340, \"font\": \"Didot\", \"opacity\": 0.7, \"text\": \"Imports\"}, \"encoding\": {\"x\": {\"field\": \"x\", \"type\": \"quantitative\"}, \"y\": {\"field\": \"y\", \"type\": \"quantitative\"}}}, {\"data\": {\"name\": \"data-fa35ed8c9ef684d756324f810758518b\"}, \"mark\": {\"type\": \"text\", \"angle\": 340, \"font\": \"Didot\", \"opacity\": 0.7, \"text\": \"Exports\"}, \"encoding\": {\"x\": {\"field\": \"x\", \"type\": \"quantitative\"}, \"y\": {\"field\": \"y\", \"type\": \"quantitative\"}}}], \"$schema\": \"https://vega.github.io/schema/vega-lite/v4.17.0.json\", \"datasets\": {\"data-082846128eeedcb5522744029709bcb9\": [{\"Year\": 1700.0, \"Imports\": 70.0, \"Exports\": 34.0}, {\"Year\": 1701.25, \"Imports\": 70.75, \"Exports\": 38.0}, {\"Year\": 1702.5, \"Imports\": 72.0, \"Exports\": 40.0}, {\"Year\": 1705.0, \"Imports\": 75.0, \"Exports\": 43.0}, {\"Year\": 1706.0, \"Imports\": 77.0, \"Exports\": 45.0}, {\"Year\": 1707.5, \"Imports\": 80.0, \"Exports\": 50.0}, {\"Year\": 1710.0, \"Imports\": 82.0, \"Exports\": 60.0}, {\"Year\": 1712.5, \"Imports\": 84.0, \"Exports\": 70.0}, {\"Year\": 1714.0, \"Imports\": 86.0, \"Exports\": 76.0}, {\"Year\": 1715.0, \"Imports\": 88.0, \"Exports\": 78.0}, {\"Year\": 1716.0, \"Imports\": 90.0, \"Exports\": 77.0}, {\"Year\": 1717.5, \"Imports\": 92.0, \"Exports\": 76.0}, {\"Year\": 1720.0, \"Imports\": 97.0, \"Exports\": 75.0}, {\"Year\": 1722.5, \"Imports\": 100.0, \"Exports\": 72.5}, {\"Year\": 1725.0, \"Imports\": 102.0, \"Exports\": 71.0}, {\"Year\": 1727.5, \"Imports\": 101.0, \"Exports\": 70.0}, {\"Year\": 1728.5, \"Imports\": 100.0, \"Exports\": 69.0}, {\"Year\": 1730.0, \"Imports\": 97.0, \"Exports\": 65.0}, {\"Year\": 1732.5, \"Imports\": 95.0, \"Exports\": 62.0}, {\"Year\": 1735.0, \"Imports\": 94.0, \"Exports\": 61.0}, {\"Year\": 1737.5, \"Imports\": 94.0, \"Exports\": 62.0}, {\"Year\": 1740.0, \"Imports\": 94.5, \"Exports\": 66.0}, {\"Year\": 1742.5, \"Imports\": 94.0, \"Exports\": 70.0}, {\"Year\": 1745.0, \"Imports\": 93.5, \"Exports\": 73.0}, {\"Year\": 1747.5, \"Imports\": 92.0, \"Exports\": 75.0}, {\"Year\": 1749.0, \"Imports\": 90.6, \"Exports\": 77.0}, {\"Year\": 1750.0, \"Imports\": 90.0, \"Exports\": 78.0}, {\"Year\": 1751.25, \"Imports\": 88.5, \"Exports\": 79.0}, {\"Year\": 1752.5, \"Imports\": 86.5, \"Exports\": 80.0}, {\"Year\": 1753.75, \"Imports\": 84.0, \"Exports\": 81.0}], \"data-c394e99b6c0c85208a8abf2aee6db15b\": [{\"Year\": 1755.0, \"Imports\": 80.0, \"Exports\": 83.0}, {\"Year\": 1756.0, \"Imports\": 79.0, \"Exports\": 84.0}, {\"Year\": 1757.0, \"Imports\": 78.5, \"Exports\": 88.0}, {\"Year\": 1757.5, \"Imports\": 78.0, \"Exports\": 92.0}, {\"Year\": 1758.0, \"Imports\": 78.0, \"Exports\": 100.0}, {\"Year\": 1760.0, \"Imports\": 78.5, \"Exports\": 120.0}, {\"Year\": 1762.5, \"Imports\": 78.0, \"Exports\": 130.0}, {\"Year\": 1765.0, \"Imports\": 80.0, \"Exports\": 148.0}, {\"Year\": 1767.5, \"Imports\": 83.0, \"Exports\": 160.0}, {\"Year\": 1770.0, \"Imports\": 84.0, \"Exports\": 165.0}, {\"Year\": 1771.0, \"Imports\": 86.0, \"Exports\": 167.0}, {\"Year\": 1772.0, \"Imports\": 90.0, \"Exports\": 170.0}, {\"Year\": 1774.0, \"Imports\": 92.0, \"Exports\": 175.0}, {\"Year\": 1775.0, \"Imports\": 93.0, \"Exports\": 180.0}, {\"Year\": 1777.5, \"Imports\": 94.0, \"Exports\": 183.0}, {\"Year\": 1780.0, \"Imports\": 95.0, \"Exports\": 186.0}], \"data-d21a5610c08d0516c93726e975174542\": [{\"Year\": 1700.0, \"Imports\": 70.0, \"Exports\": 34.0}, {\"Year\": 1701.25, \"Imports\": 70.75, \"Exports\": 38.0}, {\"Year\": 1702.5, \"Imports\": 72.0, \"Exports\": 40.0}, {\"Year\": 1705.0, \"Imports\": 75.0, \"Exports\": 43.0}, {\"Year\": 1706.0, \"Imports\": 77.0, \"Exports\": 45.0}, {\"Year\": 1707.5, \"Imports\": 80.0, \"Exports\": 50.0}, {\"Year\": 1710.0, \"Imports\": 82.0, \"Exports\": 60.0}, {\"Year\": 1712.5, \"Imports\": 84.0, \"Exports\": 70.0}, {\"Year\": 1714.0, \"Imports\": 86.0, \"Exports\": 76.0}, {\"Year\": 1715.0, \"Imports\": 88.0, \"Exports\": 78.0}, {\"Year\": 1716.0, \"Imports\": 90.0, \"Exports\": 77.0}, {\"Year\": 1717.5, \"Imports\": 92.0, \"Exports\": 76.0}, {\"Year\": 1720.0, \"Imports\": 97.0, \"Exports\": 75.0}, {\"Year\": 1722.5, \"Imports\": 100.0, \"Exports\": 72.5}, {\"Year\": 1725.0, \"Imports\": 102.0, \"Exports\": 71.0}, {\"Year\": 1727.5, \"Imports\": 101.0, \"Exports\": 70.0}, {\"Year\": 1728.5, \"Imports\": 100.0, \"Exports\": 69.0}, {\"Year\": 1730.0, \"Imports\": 97.0, \"Exports\": 65.0}, {\"Year\": 1732.5, \"Imports\": 95.0, \"Exports\": 62.0}, {\"Year\": 1735.0, \"Imports\": 94.0, \"Exports\": 61.0}, {\"Year\": 1737.5, \"Imports\": 94.0, \"Exports\": 62.0}, {\"Year\": 1740.0, \"Imports\": 94.5, \"Exports\": 66.0}, {\"Year\": 1742.5, \"Imports\": 94.0, \"Exports\": 70.0}, {\"Year\": 1745.0, \"Imports\": 93.5, \"Exports\": 73.0}, {\"Year\": 1747.5, \"Imports\": 92.0, \"Exports\": 75.0}, {\"Year\": 1749.0, \"Imports\": 90.6, \"Exports\": 77.0}, {\"Year\": 1750.0, \"Imports\": 90.0, \"Exports\": 78.0}, {\"Year\": 1751.25, \"Imports\": 88.5, \"Exports\": 79.0}, {\"Year\": 1752.5, \"Imports\": 86.5, \"Exports\": 80.0}, {\"Year\": 1753.75, \"Imports\": 84.0, \"Exports\": 81.0}, {\"Year\": 1755.0, \"Imports\": 80.0, \"Exports\": 83.0}, {\"Year\": 1756.0, \"Imports\": 79.0, \"Exports\": 84.0}, {\"Year\": 1757.0, \"Imports\": 78.5, \"Exports\": 88.0}, {\"Year\": 1757.5, \"Imports\": 78.0, \"Exports\": 92.0}, {\"Year\": 1758.0, \"Imports\": 78.0, \"Exports\": 100.0}, {\"Year\": 1760.0, \"Imports\": 78.5, \"Exports\": 120.0}, {\"Year\": 1762.5, \"Imports\": 78.0, \"Exports\": 130.0}, {\"Year\": 1765.0, \"Imports\": 80.0, \"Exports\": 148.0}, {\"Year\": 1767.5, \"Imports\": 83.0, \"Exports\": 160.0}, {\"Year\": 1770.0, \"Imports\": 84.0, \"Exports\": 165.0}, {\"Year\": 1771.0, \"Imports\": 86.0, \"Exports\": 167.0}, {\"Year\": 1772.0, \"Imports\": 90.0, \"Exports\": 170.0}, {\"Year\": 1774.0, \"Imports\": 92.0, \"Exports\": 175.0}, {\"Year\": 1775.0, \"Imports\": 93.0, \"Exports\": 180.0}, {\"Year\": 1777.5, \"Imports\": 94.0, \"Exports\": 183.0}, {\"Year\": 1780.0, \"Imports\": 95.0, \"Exports\": 186.0}], \"data-f1edb19581e3c2a7922cde81309fd37a\": [{\"x\": 1719, \"y\": 98}], \"data-d6d61a2e56fb1d1fa0b91ba7b32ce5cd\": [{\"x\": 1720, \"y\": 71}], \"data-8b9db4a6cccc6008a7dd1f4c6930302b\": [{\"x\": 1730, \"y\": 82}], \"data-808d09d7abac0480713482f976654396\": [{\"x\": 1771, \"y\": 130}], \"data-e71f9abec8e1b7f35a83557256c5ddb1\": [{\"x\": 1772, \"y\": 85}], \"data-fa35ed8c9ef684d756324f810758518b\": [{\"x\": 1770, \"y\": 168}]}}, {\"mode\": \"vega-lite\"});\n",
       "</script>"
      ],
      "text/plain": [
       "alt.LayerChart(...)"
      ]
     },
     "execution_count": 25,
     "metadata": {},
     "output_type": "execute_result"
    }
   ],
   "source": [
    "base_chart1 = alt.Chart(df1, \n",
    "                        width=1.800*500, \n",
    "                        height=500, \n",
    "                        title = 'Exports and imports to and from DENMARK & NORWAY from 1700 to 1780')\n",
    "\n",
    "area1 = base_chart1.mark_area(opacity=0.7, color='#F2D5D5').encode(\n",
    "    x=alt.X('Year:Q', \n",
    "    axis=alt.Axis(title='The Botton line is diveded into Years, the Right hand line into L10000 each.')),\n",
    "    y=alt.Y('Imports:Q', axis=alt.Axis(orient=\"right\")),\n",
    "    y2='Exports:Q'\n",
    ")\n",
    "\n",
    "base_chart2 = alt.Chart(df2, \n",
    "                        width=1.800*500, \n",
    "                        height=500)\n",
    "area2 = base_chart2.mark_area(opacity=0.7, color='#F2E1C2').encode(\n",
    "    x='Year:Q',\n",
    "    y=alt.Y('Imports:Q'),\n",
    "    y2='Exports:Q'\n",
    ")\n",
    "\n",
    "imp = alt.Chart(df).mark_line(stroke = '#D99255', strokeWidth=3).encode(\n",
    "    x='Year:Q',\n",
    "    y=alt.Y('Imports:Q', axis=alt.Axis(title=' '))\n",
    ")\n",
    "\n",
    "exp = alt.Chart(df).mark_line(stroke = '#A6495A', strokeWidth=3).encode(\n",
    "    x='Year:Q',\n",
    "    y=alt.Y('Exports:Q', axis=alt.Axis(title=' ')) \n",
    "    \n",
    ")\n",
    "\n",
    "imports_text = alt.Chart({'values':[{'x': 1719, 'y': 98}]}).mark_text(\n",
    "    text='Line of Imports', \n",
    "    angle=340, \n",
    "    font='Didot', \n",
    "    opacity =0.7\n",
    ").encode(\n",
    "    x='x:Q', \n",
    "    y='y:Q'\n",
    ")\n",
    "\n",
    "Export_text = alt.Chart({'values':[{'x': 1720, 'y': 71}]}).mark_text(\n",
    "    text='Line of Exports',\n",
    "    angle=10, \n",
    "    font='Didot', \n",
    "    opacity =0.7\n",
    ").encode(\n",
    "    x='x:Q', \n",
    "    y='y:Q'\n",
    ")\n",
    "\n",
    "balance_text = alt.Chart({'values':[{'x': 1730, 'y': 82}]}).mark_text(\n",
    "    text='BALANCE AGAINST', \n",
    "    angle=10, \n",
    "    font='Didot', \n",
    "    fontSize = 14, \n",
    "    fontStyle = 'italic',\n",
    "    fontWeight = 700,\n",
    "    opacity =0.7\n",
    ").encode(\n",
    "    x='x:Q', \n",
    "    y='y:Q'\n",
    ")\n",
    "\n",
    "\n",
    "balance_text2 = alt.Chart({'values':[{'x': 1771, 'y': 130}]}).mark_text(\n",
    "    text='BALANCE AGAINST in \\n FAVOUR of \\n ENGLAND', \n",
    "    angle=0, \n",
    "    font='Didot', \n",
    "    fontSize = 14, \n",
    "    fontStyle = 'italic',\n",
    "    fontWeight = 700,\n",
    "    opacity =0.7, \n",
    "    lineBreak='\\n'\n",
    ").encode(\n",
    "    x='x:Q', \n",
    "    y='y:Q'\n",
    ")\n",
    "\n",
    "\n",
    "imports_text2 = alt.Chart({'values':[{'x':1772 , 'y': 85}]}).mark_text(\n",
    "    text='Imports', \n",
    "    angle=340, \n",
    "    font='Didot',\n",
    "    opacity =0.7\n",
    ").encode(\n",
    "    x='x:Q', \n",
    "    y='y:Q'\n",
    ")\n",
    "\n",
    "Export_text2 = alt.Chart({'values':[{'x': 1770, 'y': 168}]}).mark_text(\n",
    "    text='Exports', \n",
    "    angle=340, \n",
    "    font='Didot', \n",
    "    opacity =0.7\n",
    ").encode(\n",
    "    x='x:Q', \n",
    "    y='y:Q'\n",
    ")\n",
    "\n",
    "\n",
    "alt.layer(area1, area2, \n",
    "          imp, exp, \n",
    "          imports_text, Export_text, \n",
    "          balance_text, balance_text2, \n",
    "          imports_text2, Export_text2\n",
    "         ).configure_title(font='Didot', \n",
    "                           fontSize = 16,\n",
    "                           fontStyle = 'italic'\n",
    "                          ).configure_axis(titleFont='Didot', \n",
    "                          labelFont = 'courier',\n",
    "                          titleFontSize = 16,\n",
    "                          labelFontSize = 12,\n",
    "                          titleFontStyle = 'italic')\n"
   ]
  },
  {
   "cell_type": "code",
   "execution_count": null,
   "id": "bb9eda38",
   "metadata": {},
   "outputs": [],
   "source": []
  }
 ],
 "metadata": {
  "kernelspec": {
   "display_name": "Python 3 (ipykernel)",
   "language": "python",
   "name": "python3"
  },
  "language_info": {
   "codemirror_mode": {
    "name": "ipython",
    "version": 3
   },
   "file_extension": ".py",
   "mimetype": "text/x-python",
   "name": "python",
   "nbconvert_exporter": "python",
   "pygments_lexer": "ipython3",
   "version": "3.9.13"
  }
 },
 "nbformat": 4,
 "nbformat_minor": 5
}
